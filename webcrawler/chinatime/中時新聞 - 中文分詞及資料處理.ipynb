{
 "cells": [
  {
   "cell_type": "code",
   "execution_count": 1,
   "metadata": {},
   "outputs": [
    {
     "name": "stdout",
     "output_type": "stream",
     "text": [
      "[]\n"
     ]
    },
    {
     "ename": "IndexError",
     "evalue": "list index out of range",
     "output_type": "error",
     "traceback": [
      "\u001b[0;31m---------------------------------------------------------------------------\u001b[0m",
      "\u001b[0;31mIndexError\u001b[0m                                Traceback (most recent call last)",
      "\u001b[0;32m<ipython-input-1-f62c807a3ec3>\u001b[0m in \u001b[0;36m<module>\u001b[0;34m()\u001b[0m\n\u001b[1;32m      4\u001b[0m \u001b[0mfiles\u001b[0m \u001b[0;34m=\u001b[0m \u001b[0mglob\u001b[0m\u001b[0;34m.\u001b[0m\u001b[0mglob\u001b[0m\u001b[0;34m(\u001b[0m\u001b[0;34m\"data/*.json\"\u001b[0m\u001b[0;34m)\u001b[0m\u001b[0;34m\u001b[0m\u001b[0m\n\u001b[1;32m      5\u001b[0m \u001b[0mprint\u001b[0m\u001b[0;34m(\u001b[0m\u001b[0mfiles\u001b[0m\u001b[0;34m)\u001b[0m\u001b[0;34m\u001b[0m\u001b[0m\n\u001b[0;32m----> 6\u001b[0;31m \u001b[0;32mwith\u001b[0m \u001b[0mopen\u001b[0m\u001b[0;34m(\u001b[0m\u001b[0mfiles\u001b[0m\u001b[0;34m[\u001b[0m\u001b[0;36m0\u001b[0m\u001b[0;34m]\u001b[0m\u001b[0;34m,\u001b[0m\u001b[0;34m\"r\"\u001b[0m\u001b[0;34m,\u001b[0m\u001b[0mencoding\u001b[0m\u001b[0;34m=\u001b[0m\u001b[0;34m\"utf-8\"\u001b[0m\u001b[0;34m)\u001b[0m \u001b[0;32mas\u001b[0m \u001b[0mI\u001b[0m\u001b[0;34m:\u001b[0m\u001b[0;34m\u001b[0m\u001b[0m\n\u001b[0m\u001b[1;32m      7\u001b[0m     \u001b[0mdata\u001b[0m \u001b[0;34m=\u001b[0m \u001b[0mI\u001b[0m\u001b[0;34m.\u001b[0m\u001b[0mread\u001b[0m\u001b[0;34m(\u001b[0m\u001b[0;34m)\u001b[0m\u001b[0;34m\u001b[0m\u001b[0m\n\u001b[1;32m      8\u001b[0m \u001b[0;34m\u001b[0m\u001b[0m\n",
      "\u001b[0;31mIndexError\u001b[0m: list index out of range"
     ]
    }
   ],
   "source": [
    "# 找出檔案路徑\n",
    "import glob\n",
    "\n",
    "files = glob.glob(\"data/*.json\")\n",
    "print(files)\n",
    "with open(files[0],\"r\",encoding=\"utf-8\") as I:\n",
    "    data = I.read()\n",
    "    \n",
    "print(data)"
   ]
  },
  {
   "cell_type": "code",
   "execution_count": null,
   "metadata": {},
   "outputs": [],
   "source": [
    "#解析資料格式\n",
    "import json\n",
    "\n",
    "nested = json.loads(data)\n",
    "print(type(nested))\n",
    "\n"
   ]
  },
  {
   "cell_type": "code",
   "execution_count": null,
   "metadata": {},
   "outputs": [],
   "source": [
    "#抓出所有標題\n",
    "import glob\n",
    "\n",
    "files = glob.glob(\"data/*.json\")\n",
    "print(files)\n",
    "\n",
    "with open(files[0],\"r\",encoding=\"utf-8\") as I:\n",
    "    data = I.read()\n",
    "    \n",
    "nested = json.loads(data)\n",
    "for item in nested:\n",
    "    print(item[\"title\"])"
   ]
  },
  {
   "cell_type": "code",
   "execution_count": null,
   "metadata": {},
   "outputs": [],
   "source": [
    "#中文斷詞測試\n",
    "import jieba\n",
    "\n",
    "sentence = \"台鐵總體檢，蔡英文強調改革沒有上限\"\n",
    "words = jieba.cut(sentence)\n",
    "print(\" \".join(words))"
   ]
  },
  {
   "cell_type": "code",
   "execution_count": null,
   "metadata": {},
   "outputs": [],
   "source": [
    "#繁體詞庫測試\n",
    "import jieba\n",
    "\n",
    "jieba.set_dictionary('dict.txt.big')\n",
    "\n",
    "sentence = \"台鐵總體檢，蔡英文強調改革沒有上限\"\n",
    "words = jieba.cut(sentence)\n",
    "print(\" \".join(words))"
   ]
  },
  {
   "cell_type": "code",
   "execution_count": null,
   "metadata": {},
   "outputs": [],
   "source": [
    "#載入自訂義詞庫\n",
    "import jieba\n",
    "\n",
    "jieba.set_dictionary('dict.txt.big')\n",
    "jieba.load_userdict(\"userdict.txt\")\n",
    "\n",
    "sentence = \"台鐵總體檢，蔡英文強調改革沒有上限\"\n",
    "words = jieba.cut(sentence)\n",
    "print(\" \".join(words))"
   ]
  },
  {
   "cell_type": "code",
   "execution_count": null,
   "metadata": {},
   "outputs": [],
   "source": [
    "#詞頻分析\n",
    "import jieba\n",
    "from collections import Counter\n",
    "\n",
    "jieba.set_dictionary('dict.txt.big')\n",
    "jieba.load_userdict(\"userdict.txt\")\n",
    "\n",
    "text=\"這也太尷尬了！學弟顯然不太給學長面子！ 有網友分享，民進黨高雄市長候選人陳其邁，近來回到母校高雄中學參加校運會，但上台致詞時，學弟們似乎認為「政治不該進入校園」，因而故意擺了老學長一道！ 學弟們在陳其邁問「聽得懂我在講甚麼嘛？」，就先故意回「不懂～」。後陳其邁看似發言結束，說出「祝福大家！加油！」但學弟們就開始鼓譟大喊「韓國瑜加油、韓國瑜凍蒜！」 不少網友也紛紛在YouTube下留言「學弟們幹的好~ 我記得我們以前碰上這種事就是拚命噓台上的政治人物 噓到他們草草結束發言」、「這群雄中的孩子居然敢這樣對待老學長如此，這真的是……………太棒了！！」、「個人觀點: 這群雄中學生不見得真的支持韓國瑜 而且他們也還沒有投票權 他們只是為了表達對政治人物染指校園」。 \"\n",
    "words = jieba.cut(text)\n",
    "\n",
    "c = Counter(words)\n",
    "c.most_common(10)"
   ]
  },
  {
   "cell_type": "code",
   "execution_count": null,
   "metadata": {},
   "outputs": [],
   "source": [
    "# 檢視資料\n",
    "import json\n",
    "\n",
    "with open(\"data/chinatime.json\", \"r\", encoding=\"utf-8\") as I:\n",
    "    data = I.read()\n",
    "    nested = json.loads(data)\n",
    "    for item in nested:\n",
    "        print(item[\"title\"])\n",
    "        print(\"\\n\")"
   ]
  },
  {
   "cell_type": "code",
   "execution_count": null,
   "metadata": {
    "scrolled": true
   },
   "outputs": [],
   "source": [
    "# 資料清理\n",
    "import json\n",
    "import jieba\n",
    "import re\n",
    "\n",
    "jieba.set_dictionary('dict.txt.big')\n",
    "jieba.load_userdict(\"userdict.txt\")\n",
    "with open(\"stopwords.txt\",  encoding=\"utf-8\") as I:\n",
    "    stopwords = [word.strip() for word in I]\n",
    "\n",
    "result = set()\n",
    "output = []\n",
    "with open(files[0],\"r\",encoding=\"utf-8\") as I:\n",
    "    data = I.read()\n",
    "    nested = json.loads(data)\n",
    "    for item in nested:\n",
    "#        content = re.sub(\"更新：新增動新聞\", \"\", item[\"content\"])\n",
    "#        content = re.sub(\"看本篇完整版內容，請點以下連結\",\"\", content)\n",
    "#        content = re.sub(\"(點我看全文).+\",\"\", content)\n",
    "#        content = re.sub(\"【即時論壇徵稿】.+\",\"\", content)\n",
    "#        content = re.sub(\"【.+報導】\", \"\", content)\n",
    "#        content = re.sub(\"[(（](?:.(?!）))*?報導[）)].*\", \"\", content)\n",
    "        if title in result or title == \"\":\n",
    "            continue\n",
    "        result.add(title)\n",
    "        print(title)\n",
    "        words = jieba.cut(title)\n",
    "        words = [word for word in words if word not in stopwords]\n",
    "        item[\"cln_content\"] = \" \".join(words)\n",
    "        output.append(item)\n",
    "            "
   ]
  },
  {
   "cell_type": "code",
   "execution_count": null,
   "metadata": {},
   "outputs": [],
   "source": [
    "#寫入檔案\n",
    "import json\n",
    "\n",
    "with open(\"data/clean_chinatime.json\", \"w\", encoding=\"utf-8\") as O:\n",
    "    json.dump(output, O, indent=4, ensure_ascii=False)"
   ]
  },
  {
   "cell_type": "code",
   "execution_count": null,
   "metadata": {},
   "outputs": [],
   "source": []
  }
 ],
 "metadata": {
  "kernelspec": {
   "display_name": "Python 3",
   "language": "python",
   "name": "python3"
  },
  "language_info": {
   "codemirror_mode": {
    "name": "ipython",
    "version": 3
   },
   "file_extension": ".py",
   "mimetype": "text/x-python",
   "name": "python",
   "nbconvert_exporter": "python",
   "pygments_lexer": "ipython3",
   "version": "3.6.5"
  }
 },
 "nbformat": 4,
 "nbformat_minor": 2
}
