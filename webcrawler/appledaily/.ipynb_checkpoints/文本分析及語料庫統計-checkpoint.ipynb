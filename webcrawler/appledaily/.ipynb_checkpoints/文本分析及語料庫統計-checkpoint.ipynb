{
 "cells": [
  {
   "cell_type": "code",
   "execution_count": 26,
   "metadata": {},
   "outputs": [
    {
     "ename": "NameError",
     "evalue": "name 'positive_words' is not defined",
     "output_type": "error",
     "traceback": [
      "\u001b[1;31m---------------------------------------------------------------------------\u001b[0m",
      "\u001b[1;31mNameError\u001b[0m                                 Traceback (most recent call last)",
      "\u001b[1;32m<ipython-input-26-f2452a5d8edb>\u001b[0m in \u001b[0;36m<module>\u001b[1;34m\u001b[0m\n\u001b[0;32m     19\u001b[0m \u001b[1;32mfor\u001b[0m \u001b[0mtext\u001b[0m \u001b[1;32min\u001b[0m \u001b[0mlist\u001b[0m\u001b[1;33m(\u001b[0m\u001b[0mnews_content\u001b[0m\u001b[1;33m.\u001b[0m\u001b[0mcln_content\u001b[0m\u001b[1;33m)\u001b[0m\u001b[1;33m:\u001b[0m\u001b[1;33m\u001b[0m\u001b[1;33m\u001b[0m\u001b[0m\n\u001b[0;32m     20\u001b[0m     \u001b[0mresult\u001b[0m \u001b[1;33m=\u001b[0m \u001b[1;36m0\u001b[0m\u001b[1;33m\u001b[0m\u001b[1;33m\u001b[0m\u001b[0m\n\u001b[1;32m---> 21\u001b[1;33m     \u001b[1;32mfor\u001b[0m \u001b[0mwords\u001b[0m \u001b[1;32min\u001b[0m \u001b[0mpositive_words\u001b[0m\u001b[1;33m:\u001b[0m\u001b[1;33m\u001b[0m\u001b[1;33m\u001b[0m\u001b[0m\n\u001b[0m\u001b[0;32m     22\u001b[0m         \u001b[1;32mif\u001b[0m \u001b[0mwords\u001b[0m \u001b[1;32min\u001b[0m \u001b[0mtext\u001b[0m\u001b[1;33m:\u001b[0m\u001b[1;33m\u001b[0m\u001b[1;33m\u001b[0m\u001b[0m\n\u001b[0;32m     23\u001b[0m             \u001b[0mresult\u001b[0m \u001b[1;33m+=\u001b[0m \u001b[1;36m1\u001b[0m\u001b[1;33m\u001b[0m\u001b[1;33m\u001b[0m\u001b[0m\n",
      "\u001b[1;31mNameError\u001b[0m: name 'positive_words' is not defined"
     ]
    }
   ],
   "source": [
    "##>>>>>>>>>>> 試試也將新聞語料庫做情緒標記 <<<<<<<<<< ###\n",
    "#--- 你會需要的套件\n",
    "import pandas as pd\n",
    "import json\n",
    "\n",
    "#--- 讀入新聞語料庫的檔案 (json file)\n",
    "with open('clean_apple.json', \"r\",encoding=\"utf-8\") as json_data:\n",
    "    d = json.load(json_data)\n",
    "\n",
    "#--- 將讀入的json file 轉換為 df 格式\n",
    "news_data = pd.DataFrame.from_records(d)\n",
    "news_data\n",
    "\n",
    "#--- 只截取斷詞好的新聞文本column\n",
    "news_content = pd.DataFrame(news_data['cln_content'])\n",
    "\n",
    "#--- 計算positive word 在每一個sample出現的count\n",
    "positive_word_score = []\n",
    "for text in list(news_content.cln_content):\n",
    "    result = 0\n",
    "    for words in positive_words:\n",
    "        if words in text:\n",
    "            result += 1 \n",
    "    positive_word_score.append(result)\n",
    "positive_word_score\n",
    "\n",
    "#--- 計算positive pattern 在每一個sample出現的count \n",
    "positive_pattern = '還好.+(會|不會)?'\n",
    "positive_pattern_score = []\n",
    "for text in list(news_content.cln_content):\n",
    "    positive_pattern_score.append(len(re.findall(positive_pattern,text)))\n",
    "positive_pattern_score\n",
    "\n",
    "#--- 將 positive word和positive pattern計算後的結果合併\n",
    "positive_score = [positive_word_score[i] + positive_pattern_score[i] for i in range(len(positive_word_score))]\n",
    "#positive_score\n",
    "\n",
    "#--- 計算negative word 在每一個sample出現的count \n",
    "negative_word_score = []\n",
    "for text in list(news_content.cln_content):\n",
    "    result = 0\n",
    "    for words in negative_words:\n",
    "        if words in text:\n",
    "            result -= 1 \n",
    "    negative_word_score.append(result)\n",
    "negative_word_score\n",
    "\n",
    "#--- 計算negative pattern 在每一個sample出現的count \n",
    "negative_pattern = r'都.*了.*還.*|連.+都.+|結果.+都'\n",
    "negative_pattern_score = []\n",
    "for text in list(news_content.cln_content):\n",
    "    negative_pattern_score.append(len(re.findall(negative_pattern,text))*-1)\n",
    "negative_pattern_score\n",
    "\n",
    "#--- 將 negative word和 negative pattern計算後的結果合併\n",
    "negative_score = [negative_word_score[i] + negative_pattern_score[i] for i in range(len(negative_word_score))]\n",
    "negative_score\n",
    "\n",
    "news_content['polarity_score'] = [positive_score[i] + negative_score[i] for i in range(len(positive_score))]\n",
    "\n",
    "news_content.to_csv('news_annotation.csv', index=False, header=True)"
   ]
  }
 ],
 "metadata": {
  "celltoolbar": "Slideshow",
  "kernelspec": {
   "display_name": "Python 3",
   "language": "python",
   "name": "python3"
  },
  "language_info": {
   "codemirror_mode": {
    "name": "ipython",
    "version": 3
   },
   "file_extension": ".py",
   "mimetype": "text/x-python",
   "name": "python",
   "nbconvert_exporter": "python",
   "pygments_lexer": "ipython3",
   "version": "3.7.3"
  }
 },
 "nbformat": 4,
 "nbformat_minor": 2
}
