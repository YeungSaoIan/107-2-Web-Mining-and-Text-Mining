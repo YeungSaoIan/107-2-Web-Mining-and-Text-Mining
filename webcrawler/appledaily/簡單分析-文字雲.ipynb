{
 "cells": [
  {
   "cell_type": "code",
   "execution_count": 1,
   "metadata": {},
   "outputs": [],
   "source": [
    "import jieba\n",
    "import matplotlib as mpl\n",
    "import matplotlib.pyplot as plt\n",
    "from wordcloud import WordCloud\n",
    "import json"
   ]
  },
  {
   "cell_type": "code",
   "execution_count": 2,
   "metadata": {},
   "outputs": [
    {
     "name": "stderr",
     "output_type": "stream",
     "text": [
      "Building prefix dict from the default dictionary ...\n",
      "Loading model from cache /var/folders/6j/j4c3zzrj5y70lms8rzcdswvh0000gn/T/jieba.cache\n",
      "Loading model cost 0.543 seconds.\n",
      "Prefix dict has been built succesfully.\n"
     ]
    }
   ],
   "source": [
    "#定义一个空字符串\n",
    "temp = \"\"\n",
    "#文件夹位置\n",
    "filename = r\"data/clean_apple.json\"\n",
    " \n",
    "#打开文件夹，读取内容，并进行分词\n",
    "with open(filename,'r',encoding = 'utf-8') as csvfile:\n",
    "    for line in csvfile.readlines():\n",
    "        word = jieba.cut(line)\n",
    "        for i in word:\n",
    "            temp = temp + i +\" \""
   ]
  },
  {
   "cell_type": "code",
   "execution_count": null,
   "metadata": {},
   "outputs": [],
   "source": [
    "word_pic = WordCloud(font_path = r'setofont.ttf',width = 2000,height = 1000).generate(temp)\n",
    "plt.imshow(word_pic)\n",
    "#take out x y\n",
    "plt.axis('off')\n",
    "#save picture\n",
    "plt.savefig(r'output.png')"
   ]
  },
  {
   "cell_type": "code",
   "execution_count": null,
   "metadata": {},
   "outputs": [],
   "source": [
    "import json\n",
    "import jieba\n",
    "from collections import Counter\n",
    "from wordcloud import WordCloud\n",
    "import matplotlib.pyplot as plt\n",
    "jieba.set_dictionart('dict.txt.big')  #  設置繁中字典檔，跟專案放一起就可以指到了\n",
    "if __name__ == '__main__':\n",
    "    justDoit()\n",
    "def justDoit():\n",
    "    with open('data/clean_apple.json', 'r', encoding='utf-8') as f:\n",
    "        data = json.load(f)  #  案例假裝是從json檔取資料\n",
    "    dicts = list()\n",
    "    for d in data.values():\n",
    "        dicts += [s for s in jieba.cut(d) if s.split() and len(s) > 1]\n",
    "                                          #  當斷詞之後的文字非空格而且長度大於1\n",
    "    countD = Counter(dicts)  #Counter是上面import的一個lib，很好用，會回傳list內的出現次數\n",
    "    print(countD)  #  就可以列印出各詞出現的次數了\n",
    "    #  接著是文字雲，如果是處理中文字，就要附上字型檔，與專案置於同一資料夾即可\n",
    "    wCloud = WordCloud(font_path='中文字型檔').generate(' '.join(dicts))\n",
    "    plt.imshow(wCloud)\n",
    "    plt.axis('off')\n",
    "    plt.show()"
   ]
  }
 ],
 "metadata": {
  "kernelspec": {
   "display_name": "Python 3",
   "language": "python",
   "name": "python3"
  },
  "language_info": {
   "codemirror_mode": {
    "name": "ipython",
    "version": 3
   },
   "file_extension": ".py",
   "mimetype": "text/x-python",
   "name": "python",
   "nbconvert_exporter": "python",
   "pygments_lexer": "ipython3",
   "version": "3.6.5"
  }
 },
 "nbformat": 4,
 "nbformat_minor": 2
}
